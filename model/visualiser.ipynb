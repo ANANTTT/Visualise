{
 "cells": [
  {
   "cell_type": "markdown",
   "metadata": {},
   "source": [
    "# Neural Network\n",
    "----------"
   ]
  },
  {
   "cell_type": "markdown",
   "metadata": {},
   "source": [
    "## Importing libraries"
   ]
  },
  {
   "cell_type": "code",
   "execution_count": 14,
   "metadata": {},
   "outputs": [],
   "source": [
    "import tensorflow as tf\n",
    "import numpy as np\n",
    "import matplotlib.pyplot as plt"
   ]
  },
  {
   "cell_type": "markdown",
   "metadata": {},
   "source": [
    "## Loading data"
   ]
  },
  {
   "cell_type": "code",
   "execution_count": 15,
   "metadata": {},
   "outputs": [],
   "source": [
    "(x_train, y_train), (x_test, y_test) = tf.keras.datasets.mnist.load_data() "
   ]
  },
  {
   "cell_type": "markdown",
   "metadata": {},
   "source": [
    "#### Bringing the values in the range between 0 and 1"
   ]
  },
  {
   "cell_type": "code",
   "execution_count": 16,
   "metadata": {},
   "outputs": [],
   "source": [
    "x_train = x_train / 255.0\n",
    "x_test = x_test / 255.0"
   ]
  },
  {
   "cell_type": "markdown",
   "metadata": {},
   "source": [
    "## Visualising data"
   ]
  },
  {
   "cell_type": "code",
   "execution_count": 17,
   "metadata": {},
   "outputs": [
    {
     "data": {
      "image/png": "[encoded data removed]",
      "text/plain": [
       "<Figure size 432x288 with 4 Axes>"
      ]
     },
     "metadata": {
      "needs_background": "light"
     },
     "output_type": "display_data"
    }
   ],
   "source": [
    "for i in range(4):\n",
    "    plt.subplot(221 + int(i))\n",
    "    plt.imshow(x_train[i], cmap = plt.get_cmap('jet'))"
   ]
  },
  {
   "cell_type": "markdown",
   "metadata": {},
   "source": [
    "## Normalizing Data"
   ]
  },
  {
   "cell_type": "code",
   "execution_count": 18,
   "metadata": {},
   "outputs": [],
   "source": [
    "x_train = np.reshape(x_train, (60000, 784))\n",
    "x_test = np.reshape(x_test, (10000, 784))"
   ]
  },
  {
   "cell_type": "markdown",
   "metadata": {},
   "source": [
    "## Model"
   ]
  },
  {
   "cell_type": "code",
   "execution_count": 19,
   "metadata": {},
   "outputs": [],
   "source": [
    "model = tf.keras.models.Sequential([\n",
    "    tf.keras.layers.Dense(32, activation='sigmoid', input_shape=(784,)),\n",
    "    tf.keras.layers.Dense(32, activation='sigmoid'),\n",
    "    tf.keras.layers.Dense(10, activation='softmax')\n",
    "])\n",
    "\n",
    "model.compile(loss='sparse_categorical_crossentropy', optimizer='adam', metrics=['accuracy'])"
   ]
  },
  {
   "cell_type": "code",
   "execution_count": 20,
   "metadata": {},
   "outputs": [
    {
     "name": "stdout",
     "output_type": "stream",
     "text": [
      "Epoch 1/20\n",
      "59/59 [==============================] - 1s 16ms/step - loss: 2.1615 - accuracy: 0.4072 - val_loss: 1.9634 - val_accuracy: 0.5738\n",
      "Epoch 2/20\n",
      "59/59 [==============================] - 1s 14ms/step - loss: 1.7704 - accuracy: 0.6291 - val_loss: 1.5599 - val_accuracy: 0.6956\n",
      "Epoch 3/20\n",
      "59/59 [==============================] - 1s 12ms/step - loss: 1.3772 - accuracy: 0.7166 - val_loss: 1.1901 - val_accuracy: 0.7597\n",
      "Epoch 4/20\n",
      "59/59 [==============================] - 1s 13ms/step - loss: 1.0540 - accuracy: 0.7843 - val_loss: 0.9198 - val_accuracy: 0.8251\n",
      "Epoch 5/20\n",
      "59/59 [==============================] - 1s 11ms/step - loss: 0.8310 - accuracy: 0.8392 - val_loss: 0.7408 - val_accuracy: 0.8585\n",
      "Epoch 6/20\n",
      "59/59 [==============================] - 1s 11ms/step - loss: 0.6823 - accuracy: 0.8659 - val_loss: 0.6189 - val_accuracy: 0.8764\n",
      "Epoch 7/20\n",
      "59/59 [==============================] - 1s 10ms/step - loss: 0.5778 - accuracy: 0.8818 - val_loss: 0.5305 - val_accuracy: 0.8877\n",
      "Epoch 8/20\n",
      "59/59 [==============================] - 1s 10ms/step - loss: 0.5007 - accuracy: 0.8922 - val_loss: 0.4653 - val_accuracy: 0.8957\n",
      "Epoch 9/20\n",
      "59/59 [==============================] - 1s 10ms/step - loss: 0.4430 - accuracy: 0.8995 - val_loss: 0.4162 - val_accuracy: 0.9034\n",
      "Epoch 10/20\n",
      "59/59 [==============================] - 1s 10ms/step - loss: 0.3992 - accuracy: 0.9051 - val_loss: 0.3788 - val_accuracy: 0.9086\n",
      "Epoch 11/20\n",
      "59/59 [==============================] - 1s 9ms/step - loss: 0.3651 - accuracy: 0.9102 - val_loss: 0.3500 - val_accuracy: 0.9115\n",
      "Epoch 12/20\n",
      "59/59 [==============================] - 1s 9ms/step - loss: 0.3382 - accuracy: 0.9153 - val_loss: 0.3282 - val_accuracy: 0.9143\n",
      "Epoch 13/20\n",
      "59/59 [==============================] - 1s 9ms/step - loss: 0.3165 - accuracy: 0.9192 - val_loss: 0.3082 - val_accuracy: 0.9185\n",
      "Epoch 14/20\n",
      "59/59 [==============================] - 1s 9ms/step - loss: 0.2979 - accuracy: 0.9221 - val_loss: 0.2924 - val_accuracy: 0.9205\n",
      "Epoch 15/20\n",
      "59/59 [==============================] - 1s 9ms/step - loss: 0.2822 - accuracy: 0.9256 - val_loss: 0.2792 - val_accuracy: 0.9230\n",
      "Epoch 16/20\n",
      "59/59 [==============================] - 1s 9ms/step - loss: 0.2686 - accuracy: 0.9283 - val_loss: 0.2676 - val_accuracy: 0.9253\n",
      "Epoch 17/20\n",
      "59/59 [==============================] - 1s 10ms/step - loss: 0.2566 - accuracy: 0.9313 - val_loss: 0.2578 - val_accuracy: 0.9277\n",
      "Epoch 18/20\n",
      "59/59 [==============================] - 1s 10ms/step - loss: 0.2460 - accuracy: 0.9336 - val_loss: 0.2480 - val_accuracy: 0.9309\n",
      "Epoch 19/20\n",
      "59/59 [==============================] - 1s 10ms/step - loss: 0.2363 - accuracy: 0.9361 - val_loss: 0.2396 - val_accuracy: 0.9334\n",
      "Epoch 20/20\n",
      "59/59 [==============================] - 1s 10ms/step - loss: 0.2276 - accuracy: 0.9383 - val_loss: 0.2321 - val_accuracy: 0.9345\n"
     ]
    },
    {
     "data": {
      "text/plain": [
       "<tensorflow.python.keras.callbacks.History at 0x1071c6950>"
      ]
     },
     "execution_count": 20,
     "metadata": {},
     "output_type": "execute_result"
    }
   ],
   "source": [
    "model.fit(x_train, y_train, validation_data=(x_test, y_test), epochs=20, batch_size=1024)"
   ]
  },
  {
   "cell_type": "code",
   "execution_count": 21,
   "metadata": {},
   "outputs": [
    {
     "name": "stdout",
     "output_type": "stream",
     "text": [
      "Model: \"sequential_1\"\n",
      "_________________________________________________________________\n",
      "Layer (type)                 Output Shape              Param #   \n",
      "=================================================================\n",
      "dense_3 (Dense)              (None, 32)                25120     \n",
      "_________________________________________________________________\n",
      "dense_4 (Dense)              (None, 32)                1056      \n",
      "_________________________________________________________________\n",
      "dense_5 (Dense)              (None, 10)                330       \n",
      "=================================================================\n",
      "Total params: 26,506\n",
      "Trainable params: 26,506\n",
      "Non-trainable params: 0\n",
      "_________________________________________________________________\n"
     ]
    }
   ],
   "source": [
    "model.summary()"
   ]
  },
  {
   "cell_type": "markdown",
   "metadata": {},
   "source": [
    "#### Saving the model"
   ]
  },
  {
   "cell_type": "markdown",
   "metadata": {},
   "source": [
    "model.save('model.h5')"
   ]
  },
  {
   "cell_type": "markdown",
   "metadata": {},
   "source": [
    "# Server Setup"
   ]
  },
  {
   "cell_type": "code",
   "execution_count": 22,
   "metadata": {},
   "outputs": [
    {
     "name": "stdout",
     "output_type": "stream",
     "text": [
      "Overwriting ml_server.py\n"
     ]
    }
   ],
   "source": [
    "%%writefile ml_server.py\n",
    "\n",
    "import json\n",
    "import tensorflow as tf\n",
    "import numpy as np\n",
    "import os\n",
    "import random\n",
    "import string\n",
    "\n",
    "from flask import Flask, request\n",
    "\n",
    "app = Flask(__name__)\n",
    "\n",
    "model = tf.keras.models.load_model('model.h5')\n",
    "feature_model = tf.keras.models.Model(model.inputs, [layer.output for layer in model.layers])\n",
    "\n",
    "_, (x_test, _) = tf.keras.datasets.mnist.load_data()\n",
    "x_test = x_test / 255.\n",
    "\n",
    "def get_prediction():\n",
    "    index = np.random.choice(x_test.shape[0])\n",
    "    image = x_test[index,:,:]\n",
    "    image_arr = np.reshape(image, (1, 784))\n",
    "    return feature_model.predict(image_arr), image\n",
    "\n",
    "@app.route('/', methods=['GET', 'POST'])\n",
    "def index():\n",
    "    if request.method == 'POST':\n",
    "        preds, image = get_prediction()\n",
    "        final_preds = [p.tolist() for p in preds]\n",
    "        return json.dumps({'prediction': final_preds, 'image': image.tolist()})\n",
    "    return 'Welcome to the ml server'\n",
    "\n",
    "if __name__ == '__main__':\n",
    "    app.run()\n"
   ]
  },
  {
   "cell_type": "markdown",
   "metadata": {},
   "source": [
    "# Streamlit Web App"
   ]
  },
  {
   "cell_type": "code",
   "execution_count": 23,
   "metadata": {},
   "outputs": [
    {
     "name": "stdout",
     "output_type": "stream",
     "text": [
      "Overwriting app.py\n"
     ]
    }
   ],
   "source": [
    "%%writefile app.py\n",
    "\n",
    "import requests\n",
    "import json\n",
    "import numpy as np\n",
    "import streamlit as st\n",
    "import os\n",
    "import matplotlib.pyplot as plt\n",
    "\n",
    "URI = 'http://127.0.0.1:5000'\n",
    "\n",
    "st.title('Neural Network Visualizer')\n",
    "st.sidebar.markdown('# Input Image')\n",
    "\n",
    "if st.button('Get random predictions'):\n",
    "    response = requests.post(URI, data={})\n",
    "    response = json.loads(response.text)\n",
    "    preds = response.get('prediction')\n",
    "    image = response.get('image')\n",
    "    image = np.reshape(image, (28, 28))\n",
    "\n",
    "    st.sidebar.image(image, width=150)\n",
    "\n",
    "    for layer, p in enumerate(preds):\n",
    "        numbers = np.squeeze(np.array(p))\n",
    "\n",
    "        plt.figure(figsize=(32, 4))\n",
    "\n",
    "        if layer == 2:\n",
    "            row = 1\n",
    "            col = 10\n",
    "        else:\n",
    "            row = 2\n",
    "            col = 16\n",
    "\n",
    "        for i, number in enumerate(numbers):\n",
    "            plt.subplot(row, col, i + 1)\n",
    "            plt.imshow((number * np.ones((8, 8, 3))).astype('float32'), cmap='binary')\n",
    "            plt.xticks([])\n",
    "            plt.yticks([])\n",
    "            if layer == 2:\n",
    "                plt.xlabel(str(i), fontsize=40)\n",
    "        plt.subplots_adjust(wspace=0.05, hspace=0.05)\n",
    "        plt.tight_layout()\n",
    "\n",
    "        st.text('Layer {}'.format(layer + 1), )\n",
    "        st.pyplot()\n"
   ]
  },
  {
   "cell_type": "markdown",
   "metadata": {},
   "source": [
    "Open 2 terminals where you have all these files stored and run the following commands in the respective windows-\n",
    "* python3 ml_server.py    \n",
    "* streamlit run app.py  \n",
    "  \n",
    "This will open up a tab in your browser from where you can visualise your neural network"
   ]
  }
 ],
 "metadata": {
  "kernelspec": {
   "display_name": "Python 3",
   "language": "python",
   "name": "python3"
  },
  "language_info": {
   "codemirror_mode": {
    "name": "ipython",
    "version": 3
   },
   "file_extension": ".py",
   "mimetype": "text/x-python",
   "name": "python",
   "nbconvert_exporter": "python",
   "pygments_lexer": "ipython3",
   "version": "3.7.6"
  }
 },
 "nbformat": 4,
 "nbformat_minor": 2
}
